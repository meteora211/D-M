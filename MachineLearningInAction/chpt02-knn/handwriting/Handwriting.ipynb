{
 "cells": [
  {
   "cell_type": "markdown",
   "metadata": {},
   "source": [
    "## K近邻法手写识别"
   ]
  },
  {
   "cell_type": "markdown",
   "metadata": {},
   "source": [
    "## 处理数据"
   ]
  },
  {
   "cell_type": "code",
   "execution_count": 1,
   "metadata": {},
   "outputs": [
    {
     "data": {
      "text/plain": [
       "array([ 0.,  0.,  0., ...,  0.,  0.,  0.])"
      ]
     },
     "execution_count": 1,
     "metadata": {},
     "output_type": "execute_result"
    }
   ],
   "source": [
    "from numpy import *\n",
    "import os\n",
    "import operator\n",
    "def img2vector(filename):\n",
    "    imgMat = loadtxt(filename, converters = {0: lambda x: array(list(x.decode()), dtype=int)})\n",
    "    imgVector = imgMat.ravel()\n",
    "    return imgVector\n",
    "\n",
    "img2vector('./input/testDigits/0_2.txt')"
   ]
  },
  {
   "cell_type": "markdown",
   "metadata": {},
   "source": [
    "## 手写识别系统"
   ]
  },
  {
   "cell_type": "code",
   "execution_count": 2,
   "metadata": {},
   "outputs": [],
   "source": [
    "def classify(inputX, dataSet, label, k):\n",
    "    '''\n",
    "    Input:\n",
    "        inputX:   vector to compare to existing dataset (1xN);\n",
    "        dataSet:  known data set (MxN);\n",
    "        label:    data set label (1xM);\n",
    "        k:        number of neighbors to use\n",
    "    '''\n",
    "    # caculate O-distance\n",
    "    rows = dataSet.shape[0];\n",
    "    diffMat = tile(inputX,(rows,1)) - dataSet;\n",
    "    distance = sqrt(sum(diffMat ** 2,1));\n",
    "    # select kth points with smallest distance\n",
    "    index = argsort(distance);\n",
    "    count = {};\n",
    "    for i in range(k):\n",
    "        ithlabel = label[index[i]]\n",
    "        count[ithlabel] = count.get(ithlabel,0) + 1\n",
    "    sortedClassCount = sorted(count.items(), key=operator.itemgetter(1), reverse=True)\n",
    "    return sortedClassCount[0][0]\n",
    "\n",
    "def handwritingClassTest():\n",
    "    # read test data\n",
    "    trainingFileList = os.listdir('./input/trainingDigits')\n",
    "    fileNumber = len(trainingFileList)\n",
    "    trainingMat = zeros((fileNumber,1024))\n",
    "    label = []\n",
    "    for n,files in enumerate(trainingFileList):\n",
    "        filename = files.split('.')[0]\n",
    "        filelabel = int(filename.split('_')[0])\n",
    "        label.append(filelabel)\n",
    "        trainingMat[n,:] = img2vector('./input/trainingDigits/%s' % files)\n",
    "    \n",
    "    testFileList = os.listdir('./input/testDigits')\n",
    "    testFileNumber = len(testFileList)\n",
    "    errorCount = 0\n",
    "    summary = {}\n",
    "    for n,files in enumerate(testFileList):\n",
    "        testvector = img2vector('./input/testDigits/%s' % files)\n",
    "        filename = files.split('.')[0]\n",
    "        givenLabel = int(filename.split('_')[0])\n",
    "        classified = classify(testvector, trainingMat, label, 3)\n",
    "        summary[filename] = classified\n",
    "        if classified != givenLabel:\n",
    "            errorCount += 1\n",
    "            print(\"The classifier come back with %d, the real answer is %d\" %(givenLabel, classified))\n",
    "    print(\"total error is %f\" %(errorCount/testFileNumber))"
   ]
  },
  {
   "cell_type": "code",
   "execution_count": 3,
   "metadata": {},
   "outputs": [
    {
     "name": "stdout",
     "output_type": "stream",
     "text": [
      "The classifier come back with 1, the real answer is 7\n",
      "The classifier come back with 3, the real answer is 9\n",
      "The classifier come back with 5, the real answer is 3\n",
      "The classifier come back with 5, the real answer is 6\n",
      "The classifier come back with 8, the real answer is 6\n",
      "The classifier come back with 8, the real answer is 3\n",
      "The classifier come back with 8, the real answer is 1\n",
      "The classifier come back with 8, the real answer is 1\n",
      "The classifier come back with 9, the real answer is 1\n",
      "The classifier come back with 9, the real answer is 7\n",
      "total error is 0.010571\n"
     ]
    }
   ],
   "source": [
    "handwritingClassTest()"
   ]
  }
 ],
 "metadata": {
  "kernelspec": {
   "display_name": "Python 3",
   "language": "python",
   "name": "python3"
  },
  "language_info": {
   "codemirror_mode": {
    "name": "ipython",
    "version": 3
   },
   "file_extension": ".py",
   "mimetype": "text/x-python",
   "name": "python",
   "nbconvert_exporter": "python",
   "pygments_lexer": "ipython3",
   "version": "3.6.2"
  }
 },
 "nbformat": 4,
 "nbformat_minor": 2
}
